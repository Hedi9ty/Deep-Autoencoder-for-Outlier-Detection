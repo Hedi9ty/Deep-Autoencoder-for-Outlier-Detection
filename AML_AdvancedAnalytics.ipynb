{
 "cells": [
  {
   "cell_type": "markdown",
   "metadata": {},
   "source": [
    "# AML進階分析"
   ]
  },
  {
   "cell_type": "markdown",
   "metadata": {},
   "source": [
    "## 載入使用套件"
   ]
  },
  {
   "cell_type": "code",
   "execution_count": null,
   "metadata": {},
   "outputs": [],
   "source": [
    "import pyodbc\n",
    "import pandas as pd\n",
    "import numpy as np\n",
    "import matplotlib.pyplot as plt\n",
    "import seaborn as sns\n",
    "%matplotlib inline"
   ]
  },
  {
   "cell_type": "markdown",
   "metadata": {},
   "source": [
    "## 連結資料庫"
   ]
  },
  {
   "cell_type": "code",
   "execution_count": null,
   "metadata": {},
   "outputs": [],
   "source": [
    "db = pyodbc.connect(DRIVER='{SQL Server Native Client 10.0}',SERVER='(local)',DATABASE='amlrule_A14',uid='sa',pwd='******')"
   ]
  },
  {
   "cell_type": "markdown",
   "metadata": {},
   "source": [
    "## 匯入Report案件資料"
   ]
  },
  {
   "cell_type": "code",
   "execution_count": null,
   "metadata": {},
   "outputs": [],
   "source": [
    "report = pd.read_sql_query('SELECT * FROM [amlrule_A14].[dbo].[DTT_A14_Report]',db)"
   ]
  },
  {
   "cell_type": "markdown",
   "metadata": {},
   "source": [
    "## 匯入篩規則前所有帳戶資料"
   ]
  },
  {
   "cell_type": "code",
   "execution_count": null,
   "metadata": {},
   "outputs": [],
   "source": [
    "A14_ALL = pd.read_sql_query('SELECT * FROM [amlrule_A14].[dbo].[DTT_RESULT_A14_20180502_0530]',db)"
   ]
  },
  {
   "cell_type": "markdown",
   "metadata": {},
   "source": [
    "## 進行規則篩選"
   ]
  },
  {
   "cell_type": "code",
   "execution_count": null,
   "metadata": {},
   "outputs": [],
   "source": [
    "# H1_M6 高風險自然人\n",
    "# L1_M6 低風險自然人\n",
    "# H2_M6 高風險法人\n",
    "# L2_M6 低風險法人\n",
    "\n",
    "H1_M6 = A14_ALL[(A14_ALL.risk_level == 'H') & (A14_ALL.sex_flag == '1') & (A14_ALL.SUM_TX_AMT >= 1500000)]\n",
    "H1_M6 = H1_M6[(H1_M6.SUM_TX_AMT > 10 * H1_M6.M6_AVG_TX_AMT) | (H1_M6.M6_AVG_TX_AMT == 0)]\n",
    "L1_M6 = A14_ALL[((A14_ALL.risk_level != 'H') | (A14_ALL.risk_level is None)) & (A14_ALL.sex_flag == '1') & (A14_ALL.SUM_TX_AMT >= 3000000)]\n",
    "L1_M6 = L1_M6[(L1_M6.SUM_TX_AMT > 10 * L1_M6.M6_AVG_TX_AMT) | (L1_M6.M6_AVG_TX_AMT == 0)]\n",
    "H2_M6 = A14_ALL[(A14_ALL.risk_level == 'H') & (A14_ALL.sex_flag == '2') & (A14_ALL.SUM_TX_AMT >= 5000000)]\n",
    "H2_M6 = H2_M6[(H2_M6.SUM_TX_AMT > 10 * H2_M6.M6_AVG_TX_AMT) | (H2_M6.M6_AVG_TX_AMT == 0)]\n",
    "L2_M6 = A14_ALL[((A14_ALL.risk_level != 'H') | (A14_ALL.risk_level is None)) & (A14_ALL.sex_flag == '2') & (A14_ALL.SUM_TX_AMT >= 10000000)]\n",
    "L2_M6 = L2_M6[(L2_M6.SUM_TX_AMT > 10 * L2_M6.M6_AVG_TX_AMT) | (L2_M6.M6_AVG_TX_AMT == 0)]"
   ]
  },
  {
   "cell_type": "markdown",
   "metadata": {},
   "source": [
    "## 決策樹演算法"
   ]
  },
  {
   "cell_type": "code",
   "execution_count": null,
   "metadata": {},
   "outputs": [],
   "source": [
    "#載入決策樹演算法套件\n",
    "from sklearn.tree import DecisionTreeClassifier\n",
    "from sklearn.model_selection import train_test_split\n",
    "from sklearn.model_selection import KFold\n",
    "from sklearn.metrics import roc_auc_score\n",
    "from sklearn.metrics import confusion_matrix\n",
    "from sklearn import tree\n",
    "from sklearn.externals.six import StringIO\n",
    "import pydot"
   ]
  },
  {
   "cell_type": "code",
   "execution_count": null,
   "metadata": {},
   "outputs": [],
   "source": [
    "# data['label'] = 0 無告警\n",
    "# data['label'] = 1 有告警 \n",
    "\n",
    "# 生成告警標籤 (label = 0)\n",
    "data['label'] = np.zeros(len(data))\n",
    "data['label'] = data['label'].astype(int)\n",
    "# 生成告警標籤 (label = 1)\n",
    "data.loc[data['answer'].isnull() == 0, 'label'] = 1 "
   ]
  },
  {
   "cell_type": "code",
   "execution_count": null,
   "metadata": {},
   "outputs": [],
   "source": [
    "# 顯示所有告警數量\n",
    "sum(data.label)"
   ]
  },
  {
   "cell_type": "code",
   "execution_count": null,
   "metadata": {},
   "outputs": [],
   "source": [
    "# 視覺化告警數量\n",
    "sns.countplot('label',data=data)"
   ]
  },
  {
   "cell_type": "code",
   "execution_count": null,
   "metadata": {},
   "outputs": [],
   "source": [
    "# data['*risk_level'] 整數型態表示的客戶風險類別\n",
    "\n",
    "# 將客戶 風險類別轉成整數型態表示\n",
    "data['*risk_level'] = data.risk_level.replace({'L':0,'M':1,'H':2},axis=0)"
   ]
  },
  {
   "cell_type": "code",
   "execution_count": null,
   "metadata": {},
   "outputs": [],
   "source": [
    "# 保留決策樹演算法所要訓練的欄位X及標籤y\n",
    "X = data.drop(['CASENO','CASE_TYPE','CUST_IDN','MAINTAIN_UNIT','encrypt_generation','M_TYPE','answer','RULE_DTE','risk_level','label'], axis=1)\n",
    "y = data['label']"
   ]
  },
  {
   "cell_type": "code",
   "execution_count": null,
   "metadata": {},
   "outputs": [],
   "source": [
    "# 分割訓練及測試資料集 (視情況決定是否分割)\n",
    "#X_train, X_test, y_train, y_test = train_test_split(X, y, test_size=0.3, random_state=888)"
   ]
  },
  {
   "cell_type": "code",
   "execution_count": null,
   "metadata": {},
   "outputs": [],
   "source": [
    "# 訓練資料 (尚未進行參數最佳化)\n",
    "Dtree = DecisionTreeClassifier()\n",
    "Dtree.fit(X, y)"
   ]
  },
  {
   "cell_type": "code",
   "execution_count": null,
   "metadata": {},
   "outputs": [],
   "source": [
    "# 預測結果\n",
    "y_scores = pd.DataFrame(Dtree.predict_proba(X))[1]"
   ]
  },
  {
   "cell_type": "code",
   "execution_count": null,
   "metadata": {},
   "outputs": [],
   "source": [
    "# 評估模型效果 AUCROC CURVE\n",
    "y_true = y\n",
    "roc_auc_score(y_true, y_scores)"
   ]
  },
  {
   "cell_type": "code",
   "execution_count": null,
   "metadata": {},
   "outputs": [],
   "source": [
    "# 評估模型效果 Confusion Matrix\n",
    "y_true = y\n",
    "y_pred = Dtree.predict(X)\n",
    "tn, fp, fn, tp = confusion_matrix(y_true, y_pred).ravel()\n",
    "(tn, fp, fn, tp)"
   ]
  },
  {
   "cell_type": "code",
   "execution_count": null,
   "metadata": {},
   "outputs": [],
   "source": [
    "# 視覺化決策樹演算法規則\n",
    "dot_data = StringIO()\n",
    "dot_data = tree.export_graphviz(Dtree, out_file='A14_tree.dot', feature_names = list(X.columns), class_names = ['Alert','Report'])\n",
    "graph = pydot.graph_from_dot_data(dot_data.getvalue())\n",
    "graph[0].write_png('A14_Dtree')"
   ]
  },
  {
   "cell_type": "markdown",
   "metadata": {},
   "source": [
    "## 重新抽樣後使用決策樹演算法"
   ]
  },
  {
   "cell_type": "code",
   "execution_count": null,
   "metadata": {},
   "outputs": [],
   "source": [
    "# 比較原始標籤數量\n",
    "count_class_0, count_class_1 = data.label.value_counts()\n",
    "\n",
    "df_class_0 = data[data['label'] == 0]\n",
    "df_class_1 = data[data['label'] == 1]"
   ]
  },
  {
   "cell_type": "code",
   "execution_count": null,
   "metadata": {},
   "outputs": [],
   "source": [
    "# Under Sampling重新抽樣方法\n",
    "df_class_0_under = df_class_0.sample(count_class_1)\n",
    "df_test_under = pd.concat([df_class_0_under, df_class_1], axis=0)\n",
    "\n",
    "print('Random under-sampling')\n",
    "print(df_test_under.label.value_counts())\n",
    "\n",
    "df_test_under.label.value_counts().plot(kind='bar', title='Count (Label)')"
   ]
  },
  {
   "cell_type": "code",
   "execution_count": null,
   "metadata": {},
   "outputs": [],
   "source": [
    "# 利用上述方法所得資料 再次進行決策樹演算法的訓練 並觀察評估模型表現\n",
    "under_X = df_test_under.drop(['CASENO','CASE_TYPE','CUST_IDN','MAINTAIN_UNIT','encrypt_generation','answer','RULE_DTE','risk_level','label'], axis = 1)\n",
    "under_y = df_test_under['label']\n",
    "\n",
    "Dtree = DecisionTreeClassifier()\n",
    "Dtree.fit(under_X,under_y)\n",
    "y_scores = pd.DataFrame(Dtree.predict_proba(under_X))[1]\n",
    "y_true = under_y\n",
    "roc_auc_score(y_true, y_scores)\n",
    "under_y = df_test_under['label']\n",
    "\n",
    "Dtree = DecisionTreeClassifier()\n",
    "Dtree.fit(under_X,under_y)\n",
    "y_scores = pd.DataFrame(Dtree.predict_proba(under_X))[1]\n",
    "y_true = under_y\n",
    "roc_auc_score(y_true, y_scores)"
   ]
  },
  {
   "cell_type": "code",
   "execution_count": null,
   "metadata": {},
   "outputs": [],
   "source": [
    "# Over Sampling 重新抽樣方法\n",
    "df_class_1_over = df_class_1.sample(count_class_0, replace=True)\n",
    "df_test_over = pd.concat([df_class_0, df_class_1_over], axis=0)\n",
    "\n",
    "print('Random over-sampling')\n",
    "print(df_test_over.label.value_counts())\n",
    "\n",
    "df_test_over.label.value_counts().plot(kind='bar', title='Count (Label)')"
   ]
  },
  {
   "cell_type": "code",
   "execution_count": null,
   "metadata": {},
   "outputs": [],
   "source": [
    "# 利用上述方法所得資料 再次進行決策樹演算法的訓練 並觀察評估模型表現\n",
    "over_X = df_test_over.drop(['CASENO','CASE_TYPE','CUST_IDN','MAINTAIN_UNIT','encrypt_generation','M_TYPE','answer','RULE_DTE','risk_level','label'], axis = 1)\n",
    "over_y = df_test_over['label']\n",
    "\n",
    "Dtree = DecisionTreeClassifier()\n",
    "Dtree.fit(over_X,over_y)\n",
    "y_scores = pd.DataFrame(Dtree.predict_proba(over_X))[1]\n",
    "y_true = over_y\n",
    "roc_auc_score(y_true, y_scores)"
   ]
  },
  {
   "cell_type": "code",
   "execution_count": null,
   "metadata": {},
   "outputs": [],
   "source": [
    "# 評估模型效果 Confusion Matrix\n",
    "y_true = over_y\n",
    "y_pred = Dtree.predict(over_X)\n",
    "\n",
    "tn, fp, fn, tp = confusion_matrix(y_true, y_pred).ravel()\n",
    "(tn, fp, fn, tp)"
   ]
  },
  {
   "cell_type": "code",
   "execution_count": null,
   "metadata": {},
   "outputs": [],
   "source": [
    "# 評估模型效果 Simple Hold-out Set \n",
    "X_train, X_test, y_train, y_test = train_test_split(over_X, over_y, test_size=0.3, random_state=8)\n",
    "\n",
    "Dtree = DecisionTreeClassifier()\n",
    "Dtree.fit(X_train, y_train)\n",
    "y_scores = pd.DataFrame(Dtree.predict_proba(X_test))[1]\n",
    "y_true = y_test\n",
    "roc_auc_score(y_true, y_scores)"
   ]
  },
  {
   "cell_type": "code",
   "execution_count": null,
   "metadata": {},
   "outputs": [],
   "source": [
    "# 評估模型效果 K-Fold Cross Validation\n",
    "kfold_list = []\n",
    "\n",
    "\n",
    "Dtree = DecisionTreeClassifier()\n",
    "kf = KFold(n_splits=10, random_state=66, shuffle=True)\n",
    "i = 1\n",
    "\n",
    "for train_index, test_index in kf.split(over_X):\n",
    "    print(\"Set:\", i)\n",
    "    i = i+1\n",
    "    \n",
    "    X_train, X_test = over_X.iloc[train_index], over_X.iloc[test_index]\n",
    "    y_train, y_test = over_y.iloc[train_index], over_y.iloc[test_index]\n",
    "    \n",
    "    Dtree.fit(X_train, y_train)\n",
    "    y_scores = pd.DataFrame(Dtree.predict_proba(X_test))[1]\n",
    "    y_true = y_test\n",
    "    kfold_list.append(roc_auc_score(y_true, y_scores))\n",
    "    print(\"ROCAUC_SCORE:\", roc_auc_score(y_true, y_scores))\n",
    "    print(\"-\"*40)\n",
    "    \n",
    "print(np.mean(kfold_list), np.std(kfold_list))"
   ]
  },
  {
   "cell_type": "code",
   "execution_count": null,
   "metadata": {},
   "outputs": [],
   "source": [
    "# 視覺化決策樹演算法規則\n",
    "dot_data = StringIO()\n",
    "dot_data = tree.export_graphviz(Dtree, out_file='A14_tree_over.dot', feature_names = list(over_X.columns), class_names = ['Alert','Report'])\n",
    "graph = pydot.graph_from_dot_data(dot_data.getvalue())\n",
    "graph[0].write_png('A14_Dtree_over')"
   ]
  },
  {
   "cell_type": "markdown",
   "metadata": {},
   "source": [
    "## 自編碼離群值偵測"
   ]
  },
  {
   "cell_type": "code",
   "execution_count": null,
   "metadata": {},
   "outputs": [],
   "source": [
    "# 匯入A14未篩選規則前的所有資料\n",
    "auto = A14_ALL"
   ]
  },
  {
   "cell_type": "code",
   "execution_count": null,
   "metadata": {},
   "outputs": [],
   "source": [
    "data_all = auto\n",
    "# 將客戶 風險類別轉成整數型態表示\n",
    "data_all['*risk_level'] = data_all.risk_level.replace({'L':1,'M':2,'H':3},axis=0)"
   ]
  },
  {
   "cell_type": "code",
   "execution_count": null,
   "metadata": {},
   "outputs": [],
   "source": [
    "data_all.columns"
   ]
  },
  {
   "cell_type": "code",
   "execution_count": null,
   "metadata": {},
   "outputs": [],
   "source": [
    "X = data_all.drop(['RULE_DTE','risk_level'],axis=1)\n",
    "X.set_index('cust_idn',inplace=True)"
   ]
  },
  {
   "cell_type": "code",
   "execution_count": null,
   "metadata": {},
   "outputs": [],
   "source": [
    "X.fillna(int(0),inplace=True)"
   ]
  },
  {
   "cell_type": "code",
   "execution_count": null,
   "metadata": {},
   "outputs": [],
   "source": [
    "# 載入自編碼套件\n",
    "from keras.models import Model, load_model\n",
    "from keras.layers import Input, Dense\n",
    "from keras.callbacks import ModelCheckpoint, TensorBoard\n",
    "from keras import regularizers\n",
    "from sklearn.preprocessing import StandardScaler\n",
    "from sklearn.preprocessing import MinMaxScaler"
   ]
  },
  {
   "cell_type": "code",
   "execution_count": null,
   "metadata": {},
   "outputs": [],
   "source": [
    "# 使用自編碼前先進行Featrue Scaling\n",
    "X_train = MinMaxScaler().fit_transform(X)"
   ]
  },
  {
   "cell_type": "code",
   "execution_count": null,
   "metadata": {},
   "outputs": [],
   "source": [
    "# 決定輸入層維度\n",
    "input_dim = X_train.shape[1]"
   ]
  },
  {
   "cell_type": "code",
   "execution_count": null,
   "metadata": {},
   "outputs": [],
   "source": [
    "# One Hidden Layer Autoencoder 一層隱藏層自編碼\n",
    "\n",
    "encoding_dim = 5\n",
    "input_layer = Input(shape=(input_dim,))\n",
    "encoded = Dense(encoding_dim, activation='relu')(input_layer)\n",
    "decoded = Dense(input_dim, activation='sigmoid')(encoded)\n",
    "\n",
    "autoencoder = Model(input_layer, decoded)\n",
    "autoencoder.compile(optimizer='adam', loss='mean_squared_error')"
   ]
  },
  {
   "cell_type": "code",
   "execution_count": null,
   "metadata": {},
   "outputs": [],
   "source": [
    "# Deep Autoencoder 深度自編碼\n",
    "\n",
    "input_layer = Input(shape=(input_dim,))\n",
    "encoded = Dense(input_dim, activation='relu')(input_layer)\n",
    "encoded = Dense(4, activation='relu')(encoded)\n",
    "encoded = Dense(2, activation='relu')(encoded)\n",
    "\n",
    "decoded = Dense(2, activation='relu')(encoded)\n",
    "decoded = Dense(4, activation='relu')(decoded)\n",
    "decoded = Dense(input_dim, activation='sigmoid')(decoded)\n",
    "\n",
    "autoencoder = Model(input_layer, decoded)\n",
    "autoencoder.compile(optimizer='adam', loss='mean_squared_error')"
   ]
  },
  {
   "cell_type": "code",
   "execution_count": null,
   "metadata": {},
   "outputs": [],
   "source": [
    "# 訓練自編碼模型\n",
    "autoencoder.fit(X_train, X_train, epochs=10, batch_size=100, shuffle=True, validation_data=(X_train, X_train))"
   ]
  },
  {
   "cell_type": "code",
   "execution_count": null,
   "metadata": {},
   "outputs": [],
   "source": [
    "# 計算出每組輸出值和輸入值的min square error\n",
    "All = MinMaxScaler().fit_transform(X)\n",
    "pred = autoencoder.predict(All)\n",
    "mse = np.mean(np.power(All- pred, 2), axis=1)\n",
    "\n",
    "error = pd.DataFrame({'reconstruction_error':mse})\n",
    "error['cust_idn'] = X.index\n",
    "error.set_index('cust_idn',inplace=True)"
   ]
  },
  {
   "cell_type": "code",
   "execution_count": null,
   "metadata": {},
   "outputs": [],
   "source": [
    "error_ALL = pd.concat([error,X], axis = 1)"
   ]
  },
  {
   "cell_type": "code",
   "execution_count": null,
   "metadata": {},
   "outputs": [],
   "source": [
    "error_ALL.head()"
   ]
  },
  {
   "cell_type": "code",
   "execution_count": null,
   "metadata": {},
   "outputs": [],
   "source": [
    "error_ALL.describe()"
   ]
  },
  {
   "cell_type": "code",
   "execution_count": null,
   "metadata": {},
   "outputs": [],
   "source": [
    "# 找出最可疑的前1000個ID\n",
    "error_list = error.nlargest(1000,'reconstruction_error')\n",
    "error_list['CUST_IDN'] = error_list.index"
   ]
  },
  {
   "cell_type": "code",
   "execution_count": null,
   "metadata": {},
   "outputs": [],
   "source": [
    "error_list['CUST_IDN'].nunique()"
   ]
  },
  {
   "cell_type": "code",
   "execution_count": null,
   "metadata": {},
   "outputs": [],
   "source": [
    "#用最可疑的前1000個ID去比對Report表 \n",
    "A14_Ans = pd.merge(error_list, report, how='inner', on='CUST_IDN')"
   ]
  },
  {
   "cell_type": "markdown",
   "metadata": {},
   "source": [
    "## 產生新的欄位"
   ]
  },
  {
   "cell_type": "markdown",
   "metadata": {},
   "source": [
    "### 活存"
   ]
  },
  {
   "cell_type": "code",
   "execution_count": null,
   "metadata": {},
   "outputs": [],
   "source": [
    "# 連結資料庫\n",
    "db = pyodbc.connect(DRIVER='{SQL Server Native Client 10.0}',SERVER='(local)',DATABASE='amlrule',uid='sa',pwd='Test1234')"
   ]
  },
  {
   "cell_type": "code",
   "execution_count": null,
   "metadata": {},
   "outputs": [],
   "source": [
    "# 讀取半年份的活存交易資料\n",
    "half_year = pd.read_sql_query('SELECT * FROM [amlrule_A14].[dbo].[DTT_fshtx6M]',db)"
   ]
  },
  {
   "cell_type": "code",
   "execution_count": null,
   "metadata": {},
   "outputs": [],
   "source": [
    "half_year.head() "
   ]
  },
  {
   "cell_type": "code",
   "execution_count": null,
   "metadata": {},
   "outputs": [],
   "source": [
    "# 整理時間格式\n",
    "from datetime import datetime, timedelta\n",
    "half_year['*BUS_DTE'] = half_year['BUS_DTE'].apply(lambda s:datetime(year=int(s[0:4]), month=int(s[4:6]), day=int(s[6:8])))"
   ]
  },
  {
   "cell_type": "code",
   "execution_count": null,
   "metadata": {},
   "outputs": [],
   "source": [
    "# 將時間設定成index\n",
    "half_year.set_index('*BUS_DTE', inplace = True)"
   ]
  },
  {
   "cell_type": "code",
   "execution_count": null,
   "metadata": {},
   "outputs": [],
   "source": [
    "# tx_amt_sum_month 每月交易金額加總\n",
    "\n",
    "grouper23 = half_year.groupby('cust_idn').resample('M')['TX_AMT'].sum()\n",
    "\n",
    "tx_amt_sum_month = grouper23.unstack('*BUS_DTE', fill_value = 0)\n",
    "\n",
    "column_list = []\n",
    "\n",
    "for i in range(1, len(tx_amt_sum_month.columns)+1):\n",
    "    column_list.append('tx_amt_sum_month' + str(i))\n",
    "\n",
    "tx_amt_sum_month.columns = column_list\n",
    "\n",
    "tx_amt_sum_month.to_csv('tx_amt_sum_month.csv')"
   ]
  },
  {
   "cell_type": "code",
   "execution_count": null,
   "metadata": {},
   "outputs": [],
   "source": [
    "# tx_amt_mean_month 每月交易金額平均\n",
    "\n",
    "grouper24 = half_year.groupby('cust_idn').resample('M')['TX_AMT'].mean()\n",
    "\n",
    "tx_amt_mean_month = grouper24.unstack('*BUS_DTE', fill_value = 0)\n",
    "\n",
    "column_list = []\n",
    "\n",
    "for i in range(1, len(tx_amt_mean_month.columns)+1):\n",
    "    column_list.append('tx_amt_mean_month' + str(i))\n",
    "\n",
    "tx_amt_mean_month.columns = column_list\n",
    "\n",
    "tx_amt_mean_month.to_csv('tx_amt_mean_month.csv')"
   ]
  },
  {
   "cell_type": "code",
   "execution_count": null,
   "metadata": {},
   "outputs": [],
   "source": [
    "# tr_cnt_week 每週交易次數"
   ]
  },
  {
   "cell_type": "code",
   "execution_count": null,
   "metadata": {},
   "outputs": [],
   "source": [
    "grouper = half_year.groupby('cust_idn').resample('W')['DRCR'].count()"
   ]
  },
  {
   "cell_type": "code",
   "execution_count": null,
   "metadata": {},
   "outputs": [],
   "source": [
    "tr_cnt_week = grouper.unstack('*BUS_DTE', fill_value = 0)"
   ]
  },
  {
   "cell_type": "code",
   "execution_count": null,
   "metadata": {},
   "outputs": [],
   "source": [
    "column_list = []\n",
    "\n",
    "for i in range(1, len(tr_cnt_week.columns)+1):\n",
    "    column_list.append('tr_cnt_week' + str(i))"
   ]
  },
  {
   "cell_type": "code",
   "execution_count": null,
   "metadata": {},
   "outputs": [],
   "source": [
    "tr_cnt_week.columns = column_list"
   ]
  },
  {
   "cell_type": "code",
   "execution_count": null,
   "metadata": {},
   "outputs": [],
   "source": [
    "tr_cnt_week.head()"
   ]
  },
  {
   "cell_type": "code",
   "execution_count": null,
   "metadata": {},
   "outputs": [],
   "source": [
    "tr_cnt_week.to_csv('tr_cnt_week.csv')"
   ]
  },
  {
   "cell_type": "code",
   "execution_count": null,
   "metadata": {},
   "outputs": [],
   "source": [
    "# tx_amt_mean_week 每週交易金額平均"
   ]
  },
  {
   "cell_type": "code",
   "execution_count": null,
   "metadata": {},
   "outputs": [],
   "source": [
    "grouper2 = half_year.groupby('cust_idn').resample('W')['TX_AMT'].mean()"
   ]
  },
  {
   "cell_type": "code",
   "execution_count": null,
   "metadata": {},
   "outputs": [],
   "source": [
    "tx_amt_mean_week = grouper2.unstack('*BUS_DTE', fill_value = 0)"
   ]
  },
  {
   "cell_type": "code",
   "execution_count": null,
   "metadata": {},
   "outputs": [],
   "source": [
    "column_list = []\n",
    "\n",
    "for i in range(1, len(tx_amt_mean_week.columns)+1):\n",
    "    column_list.append('tx_amt_mean_week' + str(i))"
   ]
  },
  {
   "cell_type": "code",
   "execution_count": null,
   "metadata": {},
   "outputs": [],
   "source": [
    "tx_amt_mean_week.columns = column_list"
   ]
  },
  {
   "cell_type": "code",
   "execution_count": null,
   "metadata": {},
   "outputs": [],
   "source": [
    "tx_amt_mean_week.head()"
   ]
  },
  {
   "cell_type": "code",
   "execution_count": null,
   "metadata": {},
   "outputs": [],
   "source": [
    "tx_amt_mean_week.to_csv('tx_amt_mean_week.csv')"
   ]
  },
  {
   "cell_type": "code",
   "execution_count": null,
   "metadata": {},
   "outputs": [],
   "source": [
    "# tx_amt_std_week 每週交易金額標準差"
   ]
  },
  {
   "cell_type": "code",
   "execution_count": null,
   "metadata": {},
   "outputs": [],
   "source": [
    "grouper3 = half_year.groupby('cust_idn').resample('W')['TX_AMT'].std()"
   ]
  },
  {
   "cell_type": "code",
   "execution_count": null,
   "metadata": {},
   "outputs": [],
   "source": [
    "tx_amt_std_week = grouper3.unstack('*BUS_DTE', fill_value = 0)"
   ]
  },
  {
   "cell_type": "code",
   "execution_count": null,
   "metadata": {},
   "outputs": [],
   "source": [
    "column_list = []\n",
    "\n",
    "for i in range(1, len(tx_amt_std_week.columns)+1):\n",
    "    column_list.append('tx_amt_std_week' + str(i))"
   ]
  },
  {
   "cell_type": "code",
   "execution_count": null,
   "metadata": {},
   "outputs": [],
   "source": [
    "tx_amt_std_week.columns = column_list"
   ]
  },
  {
   "cell_type": "code",
   "execution_count": null,
   "metadata": {},
   "outputs": [],
   "source": [
    "tx_amt_std_week.head()"
   ]
  },
  {
   "cell_type": "code",
   "execution_count": null,
   "metadata": {},
   "outputs": [],
   "source": [
    "tx_amt_std_week.to_csv('tx_amt_std_week.csv')"
   ]
  },
  {
   "cell_type": "code",
   "execution_count": null,
   "metadata": {},
   "outputs": [],
   "source": [
    "# tx_amt_sum_week 每週交易金額加總"
   ]
  },
  {
   "cell_type": "code",
   "execution_count": null,
   "metadata": {},
   "outputs": [],
   "source": [
    "grouper4 = half_year.groupby('cust_idn').resample('W')['TX_AMT'].sum()"
   ]
  },
  {
   "cell_type": "code",
   "execution_count": null,
   "metadata": {},
   "outputs": [],
   "source": [
    "tx_amt_sum_week = grouper4.unstack('*BUS_DTE', fill_value = 0)"
   ]
  },
  {
   "cell_type": "code",
   "execution_count": null,
   "metadata": {},
   "outputs": [],
   "source": [
    "column_list = []\n",
    "\n",
    "for i in range(1, len(tx_amt_sum_week.columns)+1):\n",
    "    column_list.append('tx_amt_sum_week' + str(i))"
   ]
  },
  {
   "cell_type": "code",
   "execution_count": null,
   "metadata": {},
   "outputs": [],
   "source": [
    "tx_amt_sum_week.columns = column_list"
   ]
  },
  {
   "cell_type": "code",
   "execution_count": null,
   "metadata": {},
   "outputs": [],
   "source": [
    "tx_amt_sum_week.head()"
   ]
  },
  {
   "cell_type": "code",
   "execution_count": null,
   "metadata": {},
   "outputs": [],
   "source": [
    "tx_amt_sum_week.to_csv('tx_amt_sum_week.csv')"
   ]
  },
  {
   "cell_type": "code",
   "execution_count": null,
   "metadata": {},
   "outputs": [],
   "source": [
    "# bal_mean_week 每週帳戶餘額平均"
   ]
  },
  {
   "cell_type": "code",
   "execution_count": null,
   "metadata": {},
   "outputs": [],
   "source": [
    "grouper5 = half_year.groupby('cust_idn').resample('W')['BAL'].mean()"
   ]
  },
  {
   "cell_type": "code",
   "execution_count": null,
   "metadata": {},
   "outputs": [],
   "source": [
    "bal_mean_week = grouper5.unstack('*BUS_DTE', fill_value = 0)"
   ]
  },
  {
   "cell_type": "code",
   "execution_count": null,
   "metadata": {},
   "outputs": [],
   "source": [
    "column_list = []\n",
    "\n",
    "for i in range(1, len(bal_mean_week.columns)+1):\n",
    "    column_list.append('bal_mean_week' + str(i))"
   ]
  },
  {
   "cell_type": "code",
   "execution_count": null,
   "metadata": {},
   "outputs": [],
   "source": [
    "bal_mean_week.columns = column_list"
   ]
  },
  {
   "cell_type": "code",
   "execution_count": null,
   "metadata": {},
   "outputs": [],
   "source": [
    "bal_mean_week.head()"
   ]
  },
  {
   "cell_type": "code",
   "execution_count": null,
   "metadata": {},
   "outputs": [],
   "source": [
    "bal_mean_week.to_csv('bal_mean_week.csv')"
   ]
  },
  {
   "cell_type": "code",
   "execution_count": null,
   "metadata": {},
   "outputs": [],
   "source": [
    "# bal_std_week 每週帳戶餘額標準差"
   ]
  },
  {
   "cell_type": "code",
   "execution_count": null,
   "metadata": {},
   "outputs": [],
   "source": [
    "grouper6 = half_year.groupby('cust_idn').resample('W')['BAL'].std()"
   ]
  },
  {
   "cell_type": "code",
   "execution_count": null,
   "metadata": {},
   "outputs": [],
   "source": [
    "bal_std_week = grouper6.unstack('*BUS_DTE', fill_value = 0)"
   ]
  },
  {
   "cell_type": "code",
   "execution_count": null,
   "metadata": {},
   "outputs": [],
   "source": [
    "column_list = []\n",
    "\n",
    "for i in range(1, len(bal_std_week.columns)+1):\n",
    "    column_list.append('bal_std_week' + str(i))"
   ]
  },
  {
   "cell_type": "code",
   "execution_count": null,
   "metadata": {},
   "outputs": [],
   "source": [
    "bal_std_week.columns = column_list"
   ]
  },
  {
   "cell_type": "code",
   "execution_count": null,
   "metadata": {},
   "outputs": [],
   "source": [
    "bal_std_week.head()"
   ]
  },
  {
   "cell_type": "code",
   "execution_count": null,
   "metadata": {},
   "outputs": [],
   "source": [
    "bal_std_week.to_csv('bal_std_week.csv')"
   ]
  },
  {
   "cell_type": "code",
   "execution_count": null,
   "metadata": {},
   "outputs": [],
   "source": [
    "# memo_nuni_month 每月交易類別"
   ]
  },
  {
   "cell_type": "code",
   "execution_count": null,
   "metadata": {},
   "outputs": [],
   "source": [
    "grouper7 = half_year.groupby('cust_idn').resample('M')['MEMO'].nunique()"
   ]
  },
  {
   "cell_type": "code",
   "execution_count": null,
   "metadata": {},
   "outputs": [],
   "source": [
    "memo_nuni_month = grouper7.unstack('*BUS_DTE', fill_value = 0)"
   ]
  },
  {
   "cell_type": "code",
   "execution_count": null,
   "metadata": {},
   "outputs": [],
   "source": [
    "column_list = []\n",
    "\n",
    "for i in range(1, len(memo_nuni_month.columns)+1):\n",
    "    column_list.append('memo_nuni_month' + str(i))"
   ]
  },
  {
   "cell_type": "code",
   "execution_count": null,
   "metadata": {},
   "outputs": [],
   "source": [
    "memo_nuni_month.columns = column_list"
   ]
  },
  {
   "cell_type": "code",
   "execution_count": null,
   "metadata": {},
   "outputs": [],
   "source": [
    "memo_nuni_month.head()"
   ]
  },
  {
   "cell_type": "code",
   "execution_count": null,
   "metadata": {},
   "outputs": [],
   "source": [
    "memo_nuni_month.to_csv('memo_nuni_month.csv')"
   ]
  },
  {
   "cell_type": "markdown",
   "metadata": {},
   "source": [
    "## 支存"
   ]
  },
  {
   "cell_type": "code",
   "execution_count": null,
   "metadata": {},
   "outputs": [],
   "source": [
    "half_year_fch = pd.read_sql_query('SELECT * FROM [amlrule_A14].[dbo].[DTT_fchtx6M]',db)"
   ]
  },
  {
   "cell_type": "code",
   "execution_count": null,
   "metadata": {},
   "outputs": [],
   "source": [
    "half_year_fch['*BUS_DTE'] = half_year_fch['BUS_DTE'].apply(lambda s:datetime(year=int(s[0:4]), month=int(s[4:6]), day=int(s[6:8])))\n",
    "half_year_fch.set_index('*BUS_DTE', inplace = True)"
   ]
  },
  {
   "cell_type": "code",
   "execution_count": null,
   "metadata": {},
   "outputs": [],
   "source": [
    "half_year_fch.head()"
   ]
  },
  {
   "cell_type": "code",
   "execution_count": null,
   "metadata": {},
   "outputs": [],
   "source": [
    "# tx_amt_mean_month_fch 每月交易金額平均\n",
    "\n",
    "grouper25 = half_year_fch.groupby('cust_idn').resample('M')['TX_AMT'].mean()\n",
    "\n",
    "tx_amt_mean_month_fch = grouper25.unstack('*BUS_DTE', fill_value = 0)\n",
    "\n",
    "column_list = []\n",
    "\n",
    "for i in range(1, len(tx_amt_mean_month_fch.columns)+1):\n",
    "    column_list.append('tx_amt_mean_month_fch' + str(i))\n",
    "\n",
    "tx_amt_mean_month_fch.columns = column_list\n",
    "\n",
    "tx_amt_mean_month_fch.to_csv('tx_amt_mean_month_fch.csv')"
   ]
  },
  {
   "cell_type": "code",
   "execution_count": null,
   "metadata": {},
   "outputs": [],
   "source": [
    "# tx_amt_sum_month_fch 每月交易金額加總\n",
    "\n",
    "grouper27 = half_year_fch.groupby('cust_idn').resample('M')['TX_AMT'].sum()\n",
    "\n",
    "tx_amt_sum_month_fch = grouper27.unstack('*BUS_DTE', fill_value = 0)\n",
    "\n",
    "column_list = []\n",
    "\n",
    "for i in range(1, len(tx_amt_sum_month_fch.columns)+1):\n",
    "    column_list.append('tx_amt_mean_2month_fch' + str(i))\n",
    "\n",
    "tx_amt_sum_month_fch.columns = column_list\n",
    "\n",
    "tx_amt_sum_month_fch.to_csv('tx_amt_sum_month_fch.csv')"
   ]
  },
  {
   "cell_type": "code",
   "execution_count": null,
   "metadata": {},
   "outputs": [],
   "source": [
    "# tr_cnt_week_fch 每週交易次數\n",
    "\n",
    "grouper8 = half_year_fch.groupby('cust_idn').resample('W')['DRCR'].count()\n",
    "\n",
    "tr_cnt_week_fch = grouper8.unstack('*BUS_DTE', fill_value = 0)\n",
    "\n",
    "column_list = []\n",
    "\n",
    "for i in range(1, len(tr_cnt_week_fch.columns)+1):\n",
    "    column_list.append('tr_cnt_week_fch' + str(i))\n",
    "\n",
    "tr_cnt_week_fch.columns = column_list\n",
    "\n",
    "tr_cnt_week_fch.head()"
   ]
  },
  {
   "cell_type": "code",
   "execution_count": null,
   "metadata": {},
   "outputs": [],
   "source": [
    "tr_cnt_week_fch.to_csv('tr_cnt_week_fch.csv')"
   ]
  },
  {
   "cell_type": "code",
   "execution_count": null,
   "metadata": {},
   "outputs": [],
   "source": [
    "# tx_amt_mean_week_fch 每週交易金額平均\n",
    "\n",
    "grouper9 = half_year_fch.groupby('cust_idn').resample('W')['TX_AMT'].mean()\n",
    "\n",
    "tx_amt_mean_week_fch = grouper9.unstack('*BUS_DTE', fill_value = 0)\n",
    "\n",
    "column_list = []\n",
    "\n",
    "for i in range(1, len(tx_amt_mean_week_fch.columns)+1):\n",
    "    column_list.append('tx_amt_mean_week_fch' + str(i))\n",
    "\n",
    "tx_amt_mean_week_fch.columns = column_list\n",
    "\n",
    "tx_amt_mean_week_fch.head()"
   ]
  },
  {
   "cell_type": "code",
   "execution_count": null,
   "metadata": {},
   "outputs": [],
   "source": [
    "tx_amt_mean_week_fch.to_csv('tx_amt_mean_week_fch.csv')"
   ]
  },
  {
   "cell_type": "code",
   "execution_count": null,
   "metadata": {},
   "outputs": [],
   "source": [
    "# tx_amt_std_week_fch 每周交易金額標準差\n",
    "\n",
    "grouper10 = half_year_fch.groupby('cust_idn').resample('W')['TX_AMT'].std()\n",
    "\n",
    "tx_amt_std_week_fch = grouper10.unstack('*BUS_DTE', fill_value = 0)\n",
    "\n",
    "column_list = []\n",
    "\n",
    "for i in range(1, len(tx_amt_std_week_fch.columns)+1):\n",
    "    column_list.append('tx_amt_std_week_fch' + str(i))\n",
    "\n",
    "tx_amt_std_week_fch.columns = column_list\n",
    "\n",
    "tx_amt_std_week_fch.head()"
   ]
  },
  {
   "cell_type": "code",
   "execution_count": null,
   "metadata": {},
   "outputs": [],
   "source": [
    "tx_amt_std_week_fch.to_csv('tx_amt_std_week_fch.csv')"
   ]
  },
  {
   "cell_type": "code",
   "execution_count": null,
   "metadata": {},
   "outputs": [],
   "source": [
    "# tx_amt_sum_week_fch 每週交易金額加總\n",
    "\n",
    "grouper11 = half_year_fch.groupby('cust_idn').resample('W')['TX_AMT'].sum()\n",
    "\n",
    "tx_amt_sum_week_fch = grouper11.unstack('*BUS_DTE', fill_value = 0)\n",
    "\n",
    "column_list = []\n",
    "\n",
    "for i in range(1, len(tx_amt_sum_week_fch.columns)+1):\n",
    "    column_list.append('tx_amt_sum_week_fch' + str(i))\n",
    "\n",
    "tx_amt_sum_week_fch.columns = column_list\n",
    "\n",
    "tx_amt_sum_week_fch.head()"
   ]
  },
  {
   "cell_type": "code",
   "execution_count": null,
   "metadata": {},
   "outputs": [],
   "source": [
    "tx_amt_sum_week_fch.to_csv('tx_amt_sum_week_fch.csv')"
   ]
  },
  {
   "cell_type": "code",
   "execution_count": null,
   "metadata": {},
   "outputs": [],
   "source": [
    "# bal_mean_week_fch 每週帳戶餘額平均\n",
    "\n",
    "grouper12 = half_year_fch.groupby('cust_idn').resample('W')['BAL'].mean()\n",
    "\n",
    "bal_mean_week_fch = grouper12.unstack('*BUS_DTE', fill_value = 0)\n",
    "\n",
    "column_list = []\n",
    "\n",
    "for i in range(1, len(bal_mean_week_fch.columns)+1):\n",
    "    column_list.append('bal_mean_week_fch' + str(i))\n",
    "\n",
    "bal_mean_week_fch.columns = column_list\n",
    "\n",
    "bal_mean_week_fch.head()"
   ]
  },
  {
   "cell_type": "code",
   "execution_count": null,
   "metadata": {},
   "outputs": [],
   "source": [
    "bal_mean_week_fch.to_csv('bal_mean_week_fch.csv')"
   ]
  },
  {
   "cell_type": "code",
   "execution_count": null,
   "metadata": {},
   "outputs": [],
   "source": [
    "# bal_std_week_fch 每週帳戶餘額標準差\n",
    "\n",
    "grouper13 = half_year_fch.groupby('cust_idn').resample('W')['BAL'].std()\n",
    "\n",
    "bal_std_week_fch = grouper13.unstack('*BUS_DTE', fill_value = 0)\n",
    "\n",
    "column_list = []\n",
    "\n",
    "for i in range(1, len(bal_std_week_fch.columns)+1):\n",
    "    column_list.append('bal_std_week_fch' + str(i))\n",
    "\n",
    "bal_std_week_fch.columns = column_list\n",
    "\n",
    "bal_std_week_fch.head()"
   ]
  },
  {
   "cell_type": "code",
   "execution_count": null,
   "metadata": {},
   "outputs": [],
   "source": [
    "bal_std_week_fch.to_csv('bal_std_week_fch.csv')"
   ]
  },
  {
   "cell_type": "code",
   "execution_count": null,
   "metadata": {},
   "outputs": [],
   "source": [
    "# memo_nuni_month_fch 每月交易類別\n",
    "\n",
    "grouper14 = half_year_fch.groupby('cust_idn').resample('M')['MEMO'].nunique()\n",
    "\n",
    "memo_nuni_month_fch = grouper14.unstack('*BUS_DTE', fill_value = 0)\n",
    "\n",
    "column_list = []\n",
    "\n",
    "for i in range(1, len(memo_nuni_month_fch.columns)+1):\n",
    "    column_list.append('memo_nuni_month_fch' + str(i))\n",
    "\n",
    "memo_nuni_month_fch.columns = column_list\n",
    "\n",
    "memo_nuni_month_fch.head()"
   ]
  },
  {
   "cell_type": "code",
   "execution_count": null,
   "metadata": {},
   "outputs": [],
   "source": [
    "memo_nuni_month_fch.to_csv('memo_nuni_month_fch.csv')"
   ]
  },
  {
   "cell_type": "markdown",
   "metadata": {},
   "source": [
    "## 外幣"
   ]
  },
  {
   "cell_type": "code",
   "execution_count": null,
   "metadata": {},
   "outputs": [],
   "source": [
    "half_year_vsf = pd.read_sql_query('SELECT * FROM [amlrule_A14].[dbo].[DTT_vsfcr6M]',db)"
   ]
  },
  {
   "cell_type": "code",
   "execution_count": null,
   "metadata": {},
   "outputs": [],
   "source": [
    "half_year_vsf['*BUS_DATE'] = half_year_vsf['BUS_DATE'].apply(lambda s:datetime(year=int(s[0:4]), month=int(s[4:6]), day=int(s[6:8])))\n",
    "half_year_vsf.set_index('*BUS_DATE', inplace = True)"
   ]
  },
  {
   "cell_type": "code",
   "execution_count": null,
   "metadata": {},
   "outputs": [],
   "source": [
    "half_year_vsf.head()"
   ]
  },
  {
   "cell_type": "code",
   "execution_count": null,
   "metadata": {},
   "outputs": [],
   "source": [
    "# tx_amt_mean_month_vsf 每月交易金額平均\n",
    "\n",
    "grouper26 = half_year_vsf.groupby('CUST_IDN').resample('M')['TX_AMT'].mean()\n",
    "\n",
    "tx_amt_mean_month_vsf = grouper26.unstack('*BUS_DATE', fill_value = 0)\n",
    "\n",
    "column_list = []\n",
    "for i in range(1, len(tx_amt_mean_month_vsf.columns)+1):\n",
    "    column_list.append('tx_amt_mean_month_vsf' + str(i))\n",
    "\n",
    "tx_amt_mean_month_vsf.columns = column_list\n",
    "\n",
    "tx_amt_mean_month_vsf.to_csv('tx_amt_mean_month_vsf.csv')"
   ]
  },
  {
   "cell_type": "code",
   "execution_count": null,
   "metadata": {},
   "outputs": [],
   "source": [
    "# tx_amt_sum_month_vsf 每月交易金額加總\n",
    "\n",
    "grouper28 = half_year_vsf.groupby('CUST_IDN').resample('M')['TX_AMT'].sum()\n",
    "\n",
    "tx_amt_sum_month_vsf = grouper28.unstack('*BUS_DATE', fill_value = 0)\n",
    "\n",
    "column_list = []\n",
    "for i in range(1, len(tx_amt_sum_month_vsf.columns)+1):\n",
    "    column_list.append('tx_amt_sum_month_vsf' + str(i))\n",
    "\n",
    "tx_amt_sum_month_vsf.columns = column_list\n",
    "\n",
    "tx_amt_sum_month_vsf.to_csv('tx_amt_sum_month_vsf.csv')"
   ]
  },
  {
   "cell_type": "code",
   "execution_count": null,
   "metadata": {},
   "outputs": [],
   "source": [
    "# tr_cnt_week_vsf 每週交易次數\n",
    "\n",
    "grouper15 = half_year_vsf.groupby('CUST_IDN').resample('W')['DRCR'].count()\n",
    "\n",
    "tr_cnt_week_vsf = grouper15.unstack('*BUS_DATE', fill_value = 0)\n",
    "\n",
    "column_list = []\n",
    "\n",
    "for i in range(1, len(tr_cnt_week_vsf.columns)+1):\n",
    "    column_list.append('tr_cnt_week_vsf' + str(i))\n",
    "\n",
    "tr_cnt_week_vsf.columns = column_list\n",
    "\n",
    "tr_cnt_week_vsf.head()"
   ]
  },
  {
   "cell_type": "code",
   "execution_count": null,
   "metadata": {},
   "outputs": [],
   "source": [
    "tr_cnt_week_vsf.to_csv('tr_cnt_week_vsf.csv')"
   ]
  },
  {
   "cell_type": "code",
   "execution_count": null,
   "metadata": {},
   "outputs": [],
   "source": [
    "# tx_amt_mean_week_vsf 每週交易金額平均\n",
    "\n",
    "grouper16 = half_year_vsf.groupby('CUST_IDN').resample('W')['TX_AMT'].mean()\n",
    "\n",
    "tx_amt_mean_week_vsf = grouper16.unstack('*BUS_DATE', fill_value = 0)\n",
    "\n",
    "column_list = []\n",
    "\n",
    "for i in range(1, len(tx_amt_mean_week_vsf.columns)+1):\n",
    "    column_list.append('tx_amt_mean_week_vsf' + str(i))\n",
    "\n",
    "tx_amt_mean_week_vsf.columns = column_list\n",
    "\n",
    "tx_amt_mean_week_vsf.head()"
   ]
  },
  {
   "cell_type": "code",
   "execution_count": null,
   "metadata": {},
   "outputs": [],
   "source": [
    "tx_amt_mean_week_vsf.to_csv('tx_amt_mean_week_vsf.csv')"
   ]
  },
  {
   "cell_type": "code",
   "execution_count": null,
   "metadata": {},
   "outputs": [],
   "source": [
    "# tx_amt_std_week_vsf 每週交易金額標準差\n",
    "\n",
    "grouper17 = half_year_vsf.groupby('CUST_IDN').resample('W')['TX_AMT'].std()\n",
    "\n",
    "tx_amt_std_week_vsf = grouper17.unstack('*BUS_DATE', fill_value = 0)\n",
    "\n",
    "column_list = []\n",
    "\n",
    "for i in range(1, len(tx_amt_std_week_vsf.columns)+1):\n",
    "    column_list.append('tx_amt_std_week_vsf' + str(i))\n",
    "\n",
    "tx_amt_std_week_vsf.columns = column_list\n",
    "\n",
    "tx_amt_std_week_vsf.head()"
   ]
  },
  {
   "cell_type": "code",
   "execution_count": null,
   "metadata": {},
   "outputs": [],
   "source": [
    "tx_amt_std_week_vsf.to_csv('tx_amt_std_week_vsf.csv')"
   ]
  },
  {
   "cell_type": "code",
   "execution_count": null,
   "metadata": {},
   "outputs": [],
   "source": [
    "# tx_amt_sum_week_vsf 每週交易金額加總\n",
    "\n",
    "grouper18 = half_year_vsf.groupby('CUST_IDN').resample('W')['TX_AMT'].sum()\n",
    "\n",
    "tx_amt_sum_week_vsf = grouper18.unstack('*BUS_DATE', fill_value = 0)\n",
    "\n",
    "column_list = []\n",
    "\n",
    "for i in range(1, len(tx_amt_sum_week_vsf.columns)+1):\n",
    "    column_list.append('tx_amt_sum_week_vsf' + str(i))\n",
    "\n",
    "tx_amt_sum_week_vsf.columns = column_list\n",
    "\n",
    "tx_amt_sum_week_vsf.head()"
   ]
  },
  {
   "cell_type": "code",
   "execution_count": null,
   "metadata": {},
   "outputs": [],
   "source": [
    "tx_amt_sum_week_vsf.to_csv('tx_amt_sum_week_vsf.csv')"
   ]
  },
  {
   "cell_type": "code",
   "execution_count": null,
   "metadata": {},
   "outputs": [],
   "source": [
    "# bal_mean_week_vsf 每週帳戶餘額平均\n",
    "\n",
    "grouper19 = half_year_vsf.groupby('CUST_IDN').resample('W')['twd_ACT_BAL'].mean()\n",
    "\n",
    "bal_mean_week_vsf = grouper19.unstack('*BUS_DATE', fill_value = 0)\n",
    "\n",
    "column_list = []\n",
    "\n",
    "for i in range(1, len(bal_mean_week_vsf.columns)+1):\n",
    "    column_list.append('bal_mean_week_vsf' + str(i))\n",
    "\n",
    "bal_mean_week_vsf.columns = column_list\n",
    "\n",
    "bal_mean_week_vsf.head()"
   ]
  },
  {
   "cell_type": "code",
   "execution_count": null,
   "metadata": {},
   "outputs": [],
   "source": [
    "bal_mean_week_vsf.to_csv('bal_mean_week_vsf.csv')"
   ]
  },
  {
   "cell_type": "code",
   "execution_count": null,
   "metadata": {},
   "outputs": [],
   "source": [
    "# bal_std_week_vsf 每週帳戶餘額標準差\n",
    "\n",
    "grouper20 = half_year_vsf.groupby('CUST_IDN').resample('W')['twd_ACT_BAL'].std()\n",
    "\n",
    "bal_std_week_vsf = grouper20.unstack('*BUS_DATE', fill_value = 0)\n",
    "\n",
    "column_list = []\n",
    "\n",
    "for i in range(1, len(bal_std_week_vsf.columns)+1):\n",
    "    column_list.append('bal_std_week_vsf' + str(i))\n",
    "\n",
    "bal_std_week_vsf.columns = column_list\n",
    "\n",
    "bal_std_week_vsf.head()"
   ]
  },
  {
   "cell_type": "code",
   "execution_count": null,
   "metadata": {},
   "outputs": [],
   "source": [
    "bal_std_week_vsf.to_csv('bal_std_week_vsf.csv')"
   ]
  },
  {
   "cell_type": "code",
   "execution_count": null,
   "metadata": {},
   "outputs": [],
   "source": [
    "# memo_nuni_month_vsf 每月交易類別\n",
    "\n",
    "grouper21 = half_year_vsf.groupby('CUST_IDN').resample('M')['MEMO'].nunique()\n",
    "\n",
    "memo_nuni_month_vsf = grouper21.unstack('*BUS_DATE', fill_value = 0)\n",
    "\n",
    "column_list = []\n",
    "\n",
    "for i in range(1, len(memo_nuni_month_vsf.columns)+1):\n",
    "    column_list.append('memo_nuni_month_vsf' + str(i))\n",
    "\n",
    "memo_nuni_month_vsf.columns = column_list\n",
    "\n",
    "memo_nuni_month_vsf.head()"
   ]
  },
  {
   "cell_type": "code",
   "execution_count": null,
   "metadata": {},
   "outputs": [],
   "source": [
    "memo_nuni_month_vsf.to_csv('memo_nuni_month_vsf.csv')"
   ]
  },
  {
   "cell_type": "code",
   "execution_count": null,
   "metadata": {},
   "outputs": [],
   "source": [
    "# act_ccy_nuni_month_vsf 每月交易幣別\n",
    "\n",
    "grouper22 = half_year_vsf.groupby('CUST_IDN').resample('M')['ACT_CCY'].nunique()\n",
    "\n",
    "act_ccy_nuni_month_vsf = grouper22.unstack('*BUS_DATE', fill_value = 0)\n",
    "\n",
    "column_list = []\n",
    "\n",
    "for i in range(1, len(act_ccy_nuni_month_vsf.columns)+1):\n",
    "    column_list.append('act_ccy_nuni_month_vsf' + str(i))\n",
    "\n",
    "act_ccy_nuni_month_vsf.columns = column_list\n",
    "\n",
    "act_ccy_nuni_month_vsf.head()"
   ]
  },
  {
   "cell_type": "code",
   "execution_count": null,
   "metadata": {},
   "outputs": [],
   "source": [
    "act_ccy_nuni_month_vsf.to_csv('act_ccy_nuni_month_vsf.csv')"
   ]
  },
  {
   "cell_type": "markdown",
   "metadata": {},
   "source": [
    "## Xgboost 分類器"
   ]
  },
  {
   "cell_type": "code",
   "execution_count": null,
   "metadata": {},
   "outputs": [],
   "source": [
    "#讀取新產生的所有特徵欄位\n",
    "\n",
    "act_ccy_nuni_month_vsf = pd.read_csv('act_ccy_nuni_month_vsf.csv')\n",
    "\n",
    "bal_mean_week = pd.read_csv('bal_mean_week.csv')\n",
    "bal_mean_week_fch = pd.read_csv('bal_mean_week_fch.csv')\n",
    "bal_mean_week_vsf = pd.read_csv('bal_mean_week_vsf.csv')\n",
    "\n",
    "bal_std_week = pd.read_csv('bal_std_week.csv')\n",
    "bal_std_week_fch = pd.read_csv('bal_std_week_fch.csv')\n",
    "bal_std_week_vsf = pd.read_csv('bal_std_week_vsf.csv')\n",
    "\n",
    "memo_nuni_month = pd.read_csv('memo_nuni_month.csv')\n",
    "memo_nuni_month_fch = pd.read_csv('memo_nuni_month_fch.csv')\n",
    "memo_nuni_month_vsf = pd.read_csv('memo_nuni_month_vsf.csv')\n",
    "\n",
    "tr_cnt_week = pd.read_csv('tr_cnt_week.csv')\n",
    "tr_cnt_week_fch = pd.read_csv('tr_cnt_week_fch.csv')\n",
    "tr_cnt_week_vsf = pd.read_csv('tr_cnt_week_vsf.csv')\n",
    "\n",
    "tx_amt_mean_week = pd.read_csv('tx_amt_mean_week.csv')\n",
    "tx_amt_mean_week_fch = pd.read_csv('tx_amt_mean_week_fch.csv')\n",
    "tx_amt_mean_week_vsf = pd.read_csv('tx_amt_mean_week_vsf.csv')\n",
    "\n",
    "tx_amt_std_week = pd.read_csv('tx_amt_std_week.csv')\n",
    "tx_amt_std_week_fch = pd.read_csv('tx_amt_std_week_fch.csv')\n",
    "tx_amt_std_week_vsf = pd.read_csv('tx_amt_std_week_vsf.csv')\n",
    "\n",
    "tx_amt_sum_week = pd.read_csv('tx_amt_sum_week.csv')\n",
    "tx_amt_sum_week_fch = pd.read_csv('tx_amt_sum_week_fch.csv')\n",
    "tx_amt_sum_week_vsf = pd.read_csv('tx_amt_sum_week_vsf.csv')"
   ]
  },
  {
   "cell_type": "code",
   "execution_count": null,
   "metadata": {},
   "outputs": [],
   "source": [
    "tx_amt_sum_month = pd.read_csv('tx_amt_sum_month.csv', index_col = 0).fillna(0)\n",
    "tx_amt_sum_month_fch = pd.read_csv('tx_amt_sum_month_fch.csv', index_col = 0).fillna(0)\n",
    "tx_amt_sum_month_vsf = pd.read_csv('tx_amt_sum_month_vsf.csv', index_col = 0).fillna(0)\n",
    "\n",
    "tx_amt_mean_month = pd.read_csv('tx_amt_mean_month.csv', index_col = 0).fillna(0)\n",
    "tx_amt_mean_month_fch = pd.read_csv('tx_amt_mean_month_fch.csv', index_col = 0).fillna(0)\n",
    "tx_amt_mean_month_vsf = pd.read_csv('tx_amt_mean_month_vsf.csv', index_col = 0).fillna(0)"
   ]
  },
  {
   "cell_type": "code",
   "execution_count": null,
   "metadata": {},
   "outputs": [],
   "source": [
    "# 設定二元化門檻\n",
    "thr = np.mean(tx_amt_sum_month.quantile(q = 0.95))\n",
    "fch_thr = np.mean(tx_amt_sum_month_fch.quantile(q = 0.95))\n",
    "vsf_thr = np.mean(tx_amt_sum_month_vsf.quantile(q = 0.95))\n",
    "thr2 = np.mean(tx_amt_mean_month.quantile(q = 0.95))\n",
    "fch_thr2 = np.mean(tx_amt_mean_month_fch.quantile(q = 0.95))\n",
    "vsf_thr2 = np.mean(tx_amt_mean_month_vsf.quantile(q = 0.95))\n",
    "\n",
    "thr, fch_thr, vsf_thr, thr2, fch_thr2, vsf_thr2"
   ]
  },
  {
   "cell_type": "code",
   "execution_count": null,
   "metadata": {},
   "outputs": [],
   "source": [
    "# 生成二元化特徵欄位\n",
    "from sklearn.preprocessing import Binarizer\n",
    "\n",
    "binarizer = Binarizer(threshold = thr)\n",
    "tx_amt_sum_month_ = pd.DataFrame(binarizer.transform(tx_amt_sum_month))\n",
    "\n",
    "column_list1 = []\n",
    "\n",
    "for i in range(1, len(tx_amt_sum_month_.columns)+1):\n",
    "    column_list1.append('tx_amt_sum_month_' + str(i))\n",
    "\n",
    "tx_amt_sum_month_.columns = column_list1\n",
    "\n",
    "binarizer2 = Binarizer(threshold = fch_thr)\n",
    "tx_amt_sum_month_fch_ = pd.DataFrame(binarizer2.transform(tx_amt_sum_month_fch))\n",
    "\n",
    "column_list2 = []\n",
    "\n",
    "for i in range(1, len(tx_amt_sum_month_fch_.columns)+1):\n",
    "    column_list2.append('tx_amt_sum_month_fch_' + str(i))\n",
    "\n",
    "tx_amt_sum_month_fch_.columns = column_list2\n",
    "\n",
    "binarizer3 = Binarizer(threshold = vsf_thr)\n",
    "tx_amt_sum_month_vsf_ = pd.DataFrame(binarizer3.transform(tx_amt_sum_month_vsf))\n",
    "\n",
    "column_list3 = []\n",
    "\n",
    "for i in range(1, len(tx_amt_sum_month_vsf_.columns)+1):\n",
    "    column_list3.append('tx_amt_sum_month_vsf_' + str(i))\n",
    "\n",
    "tx_amt_sum_month_vsf_.columns = column_list3\n",
    "\n",
    "binarizer4 = Binarizer(threshold = thr2)\n",
    "tx_amt_mean_month_ = pd.DataFrame(binarizer4.transform(tx_amt_mean_month))\n",
    "\n",
    "column_list4 = []\n",
    "\n",
    "for i in range(1, len(tx_amt_mean_month_.columns)+1):\n",
    "    column_list4.append('tx_amt_mean_month_' + str(i))\n",
    "\n",
    "tx_amt_mean_month_.columns = column_list4\n",
    "\n",
    "binarizer5 = Binarizer(threshold = fch_thr2)\n",
    "tx_amt_mean_month_fch_ = pd.DataFrame(binarizer5.transform(tx_amt_mean_month_fch))\n",
    "\n",
    "column_list5 = []\n",
    "\n",
    "for i in range(1, len(tx_amt_mean_month_fch_.columns)+1):\n",
    "    column_list5.append('tx_amt_mean_month_fch_' + str(i))\n",
    "\n",
    "tx_amt_mean_month_fch_.columns = column_list5\n",
    "\n",
    "binarizer6 = Binarizer(threshold = vsf_thr2)\n",
    "tx_amt_mean_month_vsf_ = pd.DataFrame(binarizer6.transform(tx_amt_mean_month_vsf))\n",
    "\n",
    "column_list6 = []\n",
    "\n",
    "for i in range(1, len(tx_amt_mean_month_vsf_.columns)+1):\n",
    "    column_list6.append('tx_amt_mean_month_vsf_' + str(i))\n",
    "    \n",
    "tx_amt_sum_month_vsf_.columns = column_list6"
   ]
  },
  {
   "cell_type": "code",
   "execution_count": null,
   "metadata": {},
   "outputs": [],
   "source": [
    "# 生成多項式特徵欄位\n",
    "from sklearn.preprocessing import PolynomialFeatures\n",
    "\n",
    "poly = PolynomialFeatures(degree=2, interaction_only=True)\n",
    "\n",
    "_tx_amt_sum_month_ = pd.DataFrame(poly.fit_transform(tx_amt_sum_month_), columns = poly.get_feature_names(tx_amt_sum_month_.columns))\n",
    "\n",
    "_tx_amt_sum_month_fch_ = pd.DataFrame(poly.fit_transform(tx_amt_sum_month_fch_), columns = poly.get_feature_names(tx_amt_sum_month_fch_.columns))\n",
    "\n",
    "_tx_amt_sum_month_vsf_ = pd.DataFrame(poly.fit_transform(tx_amt_sum_month_vsf_), columns = poly.get_feature_names(tx_amt_sum_month_vsf_.columns))\n",
    "\n",
    "_tx_amt_mean_month_ = pd.DataFrame(poly.fit_transform(tx_amt_mean_month_), columns = poly.get_feature_names(tx_amt_mean_month_.columns))\n",
    "\n",
    "_tx_amt_mean_month_fch_ = pd.DataFrame(poly.fit_transform(tx_amt_mean_month_fch_), columns = poly.get_feature_names(tx_amt_mean_month_fch_.columns))\n",
    "\n",
    "_tx_amt_mean_month_vsf_ = pd.DataFrame(poly.fit_transform(tx_amt_mean_month_vsf_))#, columns = poly.get_feature_names(tx_amt_mean_month_vsf_.columns))"
   ]
  },
  {
   "cell_type": "code",
   "execution_count": null,
   "metadata": {},
   "outputs": [],
   "source": [
    "_tx_amt_sum_month_.drop(_tx_amt_sum_month_.columns[[0]],axis=1,inplace=True)\n",
    "_tx_amt_sum_month_fch_.drop(_tx_amt_sum_month_fch_.columns[[0]],axis=1,inplace=True)\n",
    "_tx_amt_sum_month_vsf_.drop(_tx_amt_sum_month_vsf_.columns[[0]],axis=1,inplace=True)\n",
    "_tx_amt_mean_month_.drop(_tx_amt_mean_month_.columns[[0]],axis=1,inplace=True)\n",
    "_tx_amt_mean_month_fch_.drop(_tx_amt_mean_month_fch_.columns[[0]],axis=1,inplace=True)\n",
    "_tx_amt_mean_month_vsf_.drop(_tx_amt_mean_month_vsf_.columns[[0]],axis=1,inplace=True)"
   ]
  },
  {
   "cell_type": "code",
   "execution_count": null,
   "metadata": {},
   "outputs": [],
   "source": [
    "# 合併所有新特徵欄位\n",
    "all_features_list = [act_ccy_nuni_month_vsf,bal_mean_week,bal_mean_week_fch,bal_mean_week_vsf,\n",
    "                     bal_std_week,bal_std_week_fch,bal_std_week_vsf,\n",
    "                     memo_nuni_month,memo_nuni_month_fch,memo_nuni_month_vsf,\n",
    "                     tr_cnt_week,tr_cnt_week_fch,tr_cnt_week_vsf,\n",
    "                     tx_amt_mean_week,tx_amt_mean_week_fch,tx_amt_mean_week_vsf,\n",
    "                     tx_amt_std_week,tx_amt_std_week_fch,tx_amt_std_week_vsf,\n",
    "                     tx_amt_sum_week,tx_amt_sum_week_fch,tx_amt_sum_week_vsf,\n",
    "                    _tx_amt_sum_month_,_tx_amt_sum_month_fch_,_tx_amt_sum_month_vsf_,\n",
    "                    _tx_amt_mean_month_,_tx_amt_mean_month_fch_,_tx_amt_mean_month_vsf_]"
   ]
  },
  {
   "cell_type": "code",
   "execution_count": null,
   "metadata": {},
   "outputs": [],
   "source": [
    "tx_amt_mean_week['ID'] = tx_amt_mean_week['cust_idn']\n",
    "all_features = pd.concat(all_features_list, axis=1)"
   ]
  },
  {
   "cell_type": "code",
   "execution_count": null,
   "metadata": {},
   "outputs": [],
   "source": [
    "all_features.fillna(0, inplace = True)"
   ]
  },
  {
   "cell_type": "code",
   "execution_count": null,
   "metadata": {},
   "outputs": [],
   "source": [
    "# 載入A14的上報案件標籤 \n",
    "Label = pd.read_sql_query('SELECT * FROM [amlrule_A14].[dbo].[DTT_A14_LABEL]',db)"
   ]
  },
  {
   "cell_type": "code",
   "execution_count": null,
   "metadata": {},
   "outputs": [],
   "source": [
    "data = all_features.set_index('ID').drop(['CUST_IDN','cust_idn'],axis=1)"
   ]
  },
  {
   "cell_type": "code",
   "execution_count": null,
   "metadata": {},
   "outputs": [],
   "source": [
    "data['CUST_IDN'] = data.index"
   ]
  },
  {
   "cell_type": "code",
   "execution_count": null,
   "metadata": {},
   "outputs": [],
   "source": [
    "data_ = pd.merge(data, Label, how = 'left', on = 'CUST_IDN')"
   ]
  },
  {
   "cell_type": "code",
   "execution_count": null,
   "metadata": {},
   "outputs": [],
   "source": [
    "# 將上報案件標籤設為1\n",
    "data_.loc[data_['answer'].isnull() == 0, 'Label'] = 1"
   ]
  },
  {
   "cell_type": "code",
   "execution_count": null,
   "metadata": {},
   "outputs": [],
   "source": [
    "# 初始化XGBoost參數\n",
    "from xgboost import XGBClassifier\n",
    "\n",
    "model = XGBClassifier(max_depth=6, learning_rate=0.06, n_estimators=100, gamma=1, \n",
    "                      min_child_weight=1, sub_sample=0.7,\n",
    "                      colsample_bytree=1, colsample_bylevel=1)"
   ]
  },
  {
   "cell_type": "code",
   "execution_count": null,
   "metadata": {},
   "outputs": [],
   "source": [
    "Label.columns"
   ]
  },
  {
   "cell_type": "code",
   "execution_count": null,
   "metadata": {},
   "outputs": [],
   "source": [
    "X = data_.drop(['CASENO', 'CASE_TYPE', 'CUST_IDN', 'MAINTAIN_UNIT',\n",
    "       'encrypt_generation', 'M_TYPE', 'answer', 'Label'], axis = 1)\n",
    "y = data_['Label']"
   ]
  },
  {
   "cell_type": "code",
   "execution_count": null,
   "metadata": {},
   "outputs": [],
   "source": [
    "# 訓練XGBoost模型\n",
    "model.fit(X,y)"
   ]
  },
  {
   "cell_type": "code",
   "execution_count": null,
   "metadata": {},
   "outputs": [],
   "source": [
    "# 評估模型效果 AUCROC CURVE\n",
    "y_scores = pd.DataFrame(model.predict_proba(X))[1]\n",
    "y_true = y\n",
    "roc_auc_score(y_true, y_scores)"
   ]
  },
  {
   "cell_type": "code",
   "execution_count": null,
   "metadata": {},
   "outputs": [],
   "source": [
    "# 評估模型效果 Confusion Matrix\n",
    "y_true = y\n",
    "y_pred = model.predict(X)\n",
    "\n",
    "tn, fp, fn, tp = confusion_matrix(y_true, y_pred).ravel()\n",
    "(tn, fp, fn, tp)"
   ]
  },
  {
   "cell_type": "markdown",
   "metadata": {},
   "source": [
    "## 特徵重要性"
   ]
  },
  {
   "cell_type": "code",
   "execution_count": null,
   "metadata": {
    "scrolled": true
   },
   "outputs": [],
   "source": [
    "from xgboost import plot_importance\n",
    "from matplotlib import pyplot\n",
    "\n",
    "plot_importance(model, max_num_features = 20)\n",
    "pyplot.show()"
   ]
  }
 ],
 "metadata": {
  "kernelspec": {
   "display_name": "Python 3",
   "language": "python",
   "name": "python3"
  },
  "language_info": {
   "codemirror_mode": {
    "name": "ipython",
    "version": 3
   },
   "file_extension": ".py",
   "mimetype": "text/x-python",
   "name": "python",
   "nbconvert_exporter": "python",
   "pygments_lexer": "ipython3",
   "version": "3.6.5"
  }
 },
 "nbformat": 4,
 "nbformat_minor": 2
}
